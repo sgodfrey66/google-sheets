{
 "cells": [
  {
   "cell_type": "markdown",
   "metadata": {
    "toc": true
   },
   "source": [
    "<h1>Table of Contents<span class=\"tocSkip\"></span></h1>\n",
    "<div class=\"toc\"><ul class=\"toc-item\"><li><span><a href=\"#Summary\" data-toc-modified-id=\"Summary-1\"><span class=\"toc-item-num\">1&nbsp;&nbsp;</span>Summary</a></span><ul class=\"toc-item\"><li><span><a href=\"#References\" data-toc-modified-id=\"References-1.1\"><span class=\"toc-item-num\">1.1&nbsp;&nbsp;</span>References</a></span></li></ul></li><li><span><a href=\"#Establish-programming-components\" data-toc-modified-id=\"Establish-programming-components-2\"><span class=\"toc-item-num\">2&nbsp;&nbsp;</span>Establish programming components</a></span><ul class=\"toc-item\"><li><span><a href=\"#Import-libraries\" data-toc-modified-id=\"Import-libraries-2.1\"><span class=\"toc-item-num\">2.1&nbsp;&nbsp;</span>Import libraries</a></span></li><li><span><a href=\"#Set-up-paths-and-API-credentials\" data-toc-modified-id=\"Set-up-paths-and-API-credentials-2.2\"><span class=\"toc-item-num\">2.2&nbsp;&nbsp;</span>Set up paths and API credentials</a></span></li></ul></li><li><span><a href=\"#Interface-to-Google-Sheets\" data-toc-modified-id=\"Interface-to-Google-Sheets-3\"><span class=\"toc-item-num\">3&nbsp;&nbsp;</span>Interface to Google Sheets</a></span><ul class=\"toc-item\"><li><span><a href=\"#Set-Sheet-parameters\" data-toc-modified-id=\"Set-Sheet-parameters-3.1\"><span class=\"toc-item-num\">3.1&nbsp;&nbsp;</span>Set Sheet parameters</a></span></li><li><span><a href=\"#Instantitate-a-pygsheets-object\" data-toc-modified-id=\"Instantitate-a-pygsheets-object-3.2\"><span class=\"toc-item-num\">3.2&nbsp;&nbsp;</span>Instantitate a pygsheets object</a></span></li><li><span><a href=\"#Take-a-look-at-the-Sheets-accessible-with-this-service-file\" data-toc-modified-id=\"Take-a-look-at-the-Sheets-accessible-with-this-service-file-3.3\"><span class=\"toc-item-num\">3.3&nbsp;&nbsp;</span>Take a look at the Sheets accessible with this service file</a></span></li><li><span><a href=\"#Open-the-Sheet-and-print-a-list-of-its-worksheets-(aka-tabs)\" data-toc-modified-id=\"Open-the-Sheet-and-print-a-list-of-its-worksheets-(aka-tabs)-3.4\"><span class=\"toc-item-num\">3.4&nbsp;&nbsp;</span>Open the Sheet and print a list of its worksheets (aka tabs)</a></span></li><li><span><a href=\"#Read-the-data-on-two-tabs\" data-toc-modified-id=\"Read-the-data-on-two-tabs-3.5\"><span class=\"toc-item-num\">3.5&nbsp;&nbsp;</span>Read the data on two tabs</a></span></li><li><span><a href=\"#Do-some-work\" data-toc-modified-id=\"Do-some-work-3.6\"><span class=\"toc-item-num\">3.6&nbsp;&nbsp;</span>Do some work</a></span></li></ul></li></ul></div>"
   ]
  },
  {
   "cell_type": "markdown",
   "metadata": {},
   "source": [
    "# Summary\n",
    "\n",
    "In this notebook, I demonstrate the use of the OAuth authentication service file with the pygsheets wrapper to read and write to a google sheet.  This same mechanism can be used to gain full access to a Google Drive.\n",
    "\n",
    "## References\n",
    "\n",
    "* [Google Cloud Authentication](https://cloud.google.com/docs/authentication?_ga=2.163995511.-977261100.1589725507)\n",
    "* [pygsheets](https://pygsheets.readthedocs.io/en/stable/)\n",
    "\n"
   ]
  },
  {
   "cell_type": "markdown",
   "metadata": {},
   "source": [
    "# Establish programming components"
   ]
  },
  {
   "cell_type": "markdown",
   "metadata": {},
   "source": [
    "## Import libraries"
   ]
  },
  {
   "cell_type": "code",
   "execution_count": 1,
   "metadata": {
    "ExecuteTime": {
     "end_time": "2020-06-12T18:52:46.631245Z",
     "start_time": "2020-06-12T18:52:43.840658Z"
    }
   },
   "outputs": [
    {
     "name": "stdout",
     "output_type": "stream",
     "text": [
      "pygsheets version: 2.0.3.1\n",
      "pandas version: 1.0.3\n",
      "\n"
     ]
    }
   ],
   "source": [
    "# Google API\n",
    "import pygsheets\n",
    "\n",
    "# Core libraries\n",
    "import os\n",
    "import json\n",
    "\n",
    "# Data analysis\n",
    "import pandas as pd\n",
    "# import numpy as np\n",
    "\n",
    "# Summarize libraries\n",
    "lib_msg='pygsheets version: {}\\npandas version: {}\\n'\n",
    "print(lib_msg.format(pygsheets.__version__, pd.__version__))\n"
   ]
  },
  {
   "cell_type": "markdown",
   "metadata": {},
   "source": [
    "## Set up paths and API credentials"
   ]
  },
  {
   "cell_type": "code",
   "execution_count": 2,
   "metadata": {
    "ExecuteTime": {
     "end_time": "2020-06-12T18:52:46.638966Z",
     "start_time": "2020-06-12T18:52:46.634112Z"
    }
   },
   "outputs": [],
   "source": [
    "# Set the paths to Credentials and data directories\n",
    "cred_path='../Credentials'\n",
    "in_data_path='../Data/Input'\n",
    "out_dat_path='../Data/Output'\n",
    "\n",
    "# Configuration files\n",
    "google_secret_file='client_secret_929524554454-ijgbdqj83om26a0b3et2p607tur637sp.apps.googleusercontent.com.json'\n",
    "google_api_key_file='SWBC2CB_API_Key.json'\n",
    "\n",
    "# Read the API file contents\n",
    "api_json=json.loads(open(os.path.join(cred_path,google_api_key_file)).read())\n",
    "\n",
    "# extract the api key\n",
    "api_key=api_json['SWBC2CB']['api_key']\n"
   ]
  },
  {
   "cell_type": "markdown",
   "metadata": {},
   "source": [
    "# Interface to Google Sheets"
   ]
  },
  {
   "cell_type": "markdown",
   "metadata": {},
   "source": [
    "## Set Sheet parameters"
   ]
  },
  {
   "cell_type": "code",
   "execution_count": 3,
   "metadata": {
    "ExecuteTime": {
     "end_time": "2020-06-12T18:52:46.645480Z",
     "start_time": "2020-06-12T18:52:46.642683Z"
    }
   },
   "outputs": [],
   "source": [
    "# Identify the Google Sheet with which this notebook will communicate\n",
    "sheet_url='https://docs.google.com/spreadsheets/d/1vnssWt9LtDoLJZqTVfGSKmOInS42ldBsOoveQdc3LQQ/edit#gid=1019985588'\n",
    "sheet_name='country_currency_codes'\n",
    "sheet_key='1vnssWt9LtDoLJZqTVfGSKmOInS42ldBsOoveQdc3LQQ'\n",
    "\n",
    "# Unlike the service file authentication method, this sheet does not need to be explicity \n",
    "#  shared with the authentication mechanism.  Instead, the user will be prompted to provide \n",
    "#  access to his/her Google Drive and depedning on the permissions allowed during that manual\n",
    "#  step, the notebook will be allowed to perform those functions.  I granted full access which\n",
    "#  allows this notebook to read, write (and create, delete ) any files on the Google Drive.\n"
   ]
  },
  {
   "cell_type": "markdown",
   "metadata": {},
   "source": [
    "## Instantitate a pygsheets object"
   ]
  },
  {
   "cell_type": "code",
   "execution_count": 4,
   "metadata": {
    "ExecuteTime": {
     "end_time": "2020-06-12T18:52:46.673568Z",
     "start_time": "2020-06-12T18:52:46.648425Z"
    }
   },
   "outputs": [],
   "source": [
    "# Authorize pygsheets API\n",
    "gc=pygsheets.authorize(client_secret=os.path.join(cred_path, google_secret_file), \n",
    "                         kwargs={'key':api_key})\n"
   ]
  },
  {
   "cell_type": "markdown",
   "metadata": {},
   "source": [
    "## Take a look at the Sheets accessible with this service file"
   ]
  },
  {
   "cell_type": "code",
   "execution_count": 5,
   "metadata": {
    "ExecuteTime": {
     "end_time": "2020-06-12T18:52:48.740787Z",
     "start_time": "2020-06-12T18:52:46.677262Z"
    }
   },
   "outputs": [
    {
     "name": "stdout",
     "output_type": "stream",
     "text": [
      "There are 119 sheet names accessible by this notebook from the Google Drive of this user.\n",
      "\n",
      "For example, some sample sheet names are:\n",
      "['Funding_Tracker_Template', 'Team Roster Public', 'Communications Contact Page', 'PM Contact Page', 'CoronaWhy- Interview Sheet', 'Copy of Comm Contact Page to re-purpose as Coord Page', 'Social Media', 'TeamName-Task', 'service_cascade_timeline', 'dd_mod', 'harm_reduction_dups_removed', 'hiv_hcv_testing_raw', 'navigation_intake_raw', 'harm_reduction_updated', 'Dashboard_data', 'visualization_data', 'Dashboard_data_2', 'visualization_data', 'Untitled spreadsheet', 'Untitled spreadsheet', 'Untitled spreadsheet', 'Untitled spreadsheet', 'Untitled spreadsheet', 'Untitled spreadsheet', 'visualization_data']\n"
     ]
    }
   ],
   "source": [
    "# Let's look at the Sheets this notebook can access\n",
    "query=\"mimeType='application/vnd.google-apps.spreadsheet'\"\n",
    "sheet_names=gc.spreadsheet_titles(query=query)\n",
    "sheet_ids=gc.spreadsheet_ids(query=query)\n",
    "\n",
    "# Print the results\n",
    "print('There are {} sheet names accessible by this \\\n",
    "notebook from the Google Drive of this user.\\n'.format(len(sheet_names)))\n",
    "\n",
    "print('For example, some sample sheet names are:\\n{}'.format(sheet_names[:25]))\n"
   ]
  },
  {
   "cell_type": "markdown",
   "metadata": {},
   "source": [
    "## Open the Sheet and print a list of its worksheets (aka tabs)"
   ]
  },
  {
   "cell_type": "code",
   "execution_count": 6,
   "metadata": {
    "ExecuteTime": {
     "end_time": "2020-06-12T18:52:49.678041Z",
     "start_time": "2020-06-12T18:52:48.743135Z"
    }
   },
   "outputs": [
    {
     "name": "stdout",
     "output_type": "stream",
     "text": [
      "The Google Sheet titled \"country_currency_codes\" is open with these tabs:\n",
      " ['sources', 'currency_codes', 'country_codes', 'test_output']\n",
      "\n"
     ]
    }
   ],
   "source": [
    "# Open the Google spreadsheet using its key\n",
    "sh=gc.open_by_key(key=sheet_key)\n",
    "\n",
    "# Get a list of worksheets (where sheet_name is the name of my sheet)\n",
    "wks_names=[tab.title for tab in sh.worksheets()]\n",
    "print('The Google Sheet titled \"{}\" is open with these tabs:\\n {}\\n'.format(sh.title, \n",
    "                                                                            wks_names))\n"
   ]
  },
  {
   "cell_type": "markdown",
   "metadata": {},
   "source": [
    "## Read the data on two tabs"
   ]
  },
  {
   "cell_type": "code",
   "execution_count": 7,
   "metadata": {
    "ExecuteTime": {
     "end_time": "2020-06-12T18:52:50.626269Z",
     "start_time": "2020-06-12T18:52:49.680256Z"
    }
   },
   "outputs": [
    {
     "name": "stdout",
     "output_type": "stream",
     "text": [
      "Reading data from currency_codes\n"
     ]
    },
    {
     "data": {
      "text/html": [
       "<div>\n",
       "<style scoped>\n",
       "    .dataframe tbody tr th:only-of-type {\n",
       "        vertical-align: middle;\n",
       "    }\n",
       "\n",
       "    .dataframe tbody tr th {\n",
       "        vertical-align: top;\n",
       "    }\n",
       "\n",
       "    .dataframe thead th {\n",
       "        text-align: right;\n",
       "    }\n",
       "</style>\n",
       "<table border=\"1\" class=\"dataframe\">\n",
       "  <thead>\n",
       "    <tr style=\"text-align: right;\">\n",
       "      <th></th>\n",
       "      <th>Country</th>\n",
       "      <th>Currency</th>\n",
       "      <th>Code</th>\n",
       "      <th>Number</th>\n",
       "    </tr>\n",
       "  </thead>\n",
       "  <tbody>\n",
       "    <tr>\n",
       "      <th>0</th>\n",
       "      <td>AFGHANISTAN</td>\n",
       "      <td>Afghani</td>\n",
       "      <td>AFN</td>\n",
       "      <td>971.0</td>\n",
       "    </tr>\n",
       "    <tr>\n",
       "      <th>1</th>\n",
       "      <td>ALBANIA</td>\n",
       "      <td>Lek</td>\n",
       "      <td>ALL</td>\n",
       "      <td>8.0</td>\n",
       "    </tr>\n",
       "    <tr>\n",
       "      <th>2</th>\n",
       "      <td>ALGERIA</td>\n",
       "      <td>Algerian Dinar</td>\n",
       "      <td>DZD</td>\n",
       "      <td>12.0</td>\n",
       "    </tr>\n",
       "    <tr>\n",
       "      <th>3</th>\n",
       "      <td>AMERICAN SAMOA</td>\n",
       "      <td>US Dollar</td>\n",
       "      <td>USD</td>\n",
       "      <td>840.0</td>\n",
       "    </tr>\n",
       "    <tr>\n",
       "      <th>4</th>\n",
       "      <td>ANDORRA</td>\n",
       "      <td>Euro</td>\n",
       "      <td>EUR</td>\n",
       "      <td>978.0</td>\n",
       "    </tr>\n",
       "    <tr>\n",
       "      <th>...</th>\n",
       "      <td>...</td>\n",
       "      <td>...</td>\n",
       "      <td>...</td>\n",
       "      <td>...</td>\n",
       "    </tr>\n",
       "    <tr>\n",
       "      <th>263</th>\n",
       "      <td>WESTERN SAHARA</td>\n",
       "      <td>Moroccan Dirham</td>\n",
       "      <td>MAD</td>\n",
       "      <td>504.0</td>\n",
       "    </tr>\n",
       "    <tr>\n",
       "      <th>264</th>\n",
       "      <td>YEMEN</td>\n",
       "      <td>Yemeni Rial</td>\n",
       "      <td>YER</td>\n",
       "      <td>886.0</td>\n",
       "    </tr>\n",
       "    <tr>\n",
       "      <th>265</th>\n",
       "      <td>ZAMBIA</td>\n",
       "      <td>Zambian Kwacha</td>\n",
       "      <td>ZMW</td>\n",
       "      <td>967.0</td>\n",
       "    </tr>\n",
       "    <tr>\n",
       "      <th>266</th>\n",
       "      <td>ZIMBABWE</td>\n",
       "      <td>Zimbabwe Dollar</td>\n",
       "      <td>ZWL</td>\n",
       "      <td>932.0</td>\n",
       "    </tr>\n",
       "    <tr>\n",
       "      <th>267</th>\n",
       "      <td>ÅLAND ISLANDS</td>\n",
       "      <td>Euro</td>\n",
       "      <td>EUR</td>\n",
       "      <td>978.0</td>\n",
       "    </tr>\n",
       "  </tbody>\n",
       "</table>\n",
       "<p>268 rows × 4 columns</p>\n",
       "</div>"
      ],
      "text/plain": [
       "            Country         Currency Code  Number\n",
       "0       AFGHANISTAN          Afghani  AFN   971.0\n",
       "1           ALBANIA              Lek  ALL     8.0\n",
       "2           ALGERIA   Algerian Dinar  DZD    12.0\n",
       "3    AMERICAN SAMOA        US Dollar  USD   840.0\n",
       "4           ANDORRA             Euro  EUR   978.0\n",
       "..              ...              ...  ...     ...\n",
       "263  WESTERN SAHARA  Moroccan Dirham  MAD   504.0\n",
       "264           YEMEN      Yemeni Rial  YER   886.0\n",
       "265          ZAMBIA   Zambian Kwacha  ZMW   967.0\n",
       "266        ZIMBABWE  Zimbabwe Dollar  ZWL   932.0\n",
       "267   ÅLAND ISLANDS             Euro  EUR   978.0\n",
       "\n",
       "[268 rows x 4 columns]"
      ]
     },
     "metadata": {},
     "output_type": "display_data"
    },
    {
     "name": "stdout",
     "output_type": "stream",
     "text": [
      "Reading data from country_codes\n"
     ]
    },
    {
     "data": {
      "text/html": [
       "<div>\n",
       "<style scoped>\n",
       "    .dataframe tbody tr th:only-of-type {\n",
       "        vertical-align: middle;\n",
       "    }\n",
       "\n",
       "    .dataframe tbody tr th {\n",
       "        vertical-align: top;\n",
       "    }\n",
       "\n",
       "    .dataframe thead th {\n",
       "        text-align: right;\n",
       "    }\n",
       "</style>\n",
       "<table border=\"1\" class=\"dataframe\">\n",
       "  <thead>\n",
       "    <tr style=\"text-align: right;\">\n",
       "      <th></th>\n",
       "      <th>Country</th>\n",
       "      <th>Alpha-2 code</th>\n",
       "      <th>Alpha-3 code</th>\n",
       "      <th>Numeric</th>\n",
       "    </tr>\n",
       "  </thead>\n",
       "  <tbody>\n",
       "    <tr>\n",
       "      <th>0</th>\n",
       "      <td>Afghanistan</td>\n",
       "      <td>AF</td>\n",
       "      <td>AFG</td>\n",
       "      <td>4</td>\n",
       "    </tr>\n",
       "    <tr>\n",
       "      <th>1</th>\n",
       "      <td>Albania</td>\n",
       "      <td>AL</td>\n",
       "      <td>ALB</td>\n",
       "      <td>8</td>\n",
       "    </tr>\n",
       "    <tr>\n",
       "      <th>2</th>\n",
       "      <td>Algeria</td>\n",
       "      <td>DZ</td>\n",
       "      <td>DZA</td>\n",
       "      <td>12</td>\n",
       "    </tr>\n",
       "    <tr>\n",
       "      <th>3</th>\n",
       "      <td>American Samoa</td>\n",
       "      <td>AS</td>\n",
       "      <td>ASM</td>\n",
       "      <td>16</td>\n",
       "    </tr>\n",
       "    <tr>\n",
       "      <th>4</th>\n",
       "      <td>Andorra</td>\n",
       "      <td>AD</td>\n",
       "      <td>AND</td>\n",
       "      <td>20</td>\n",
       "    </tr>\n",
       "    <tr>\n",
       "      <th>...</th>\n",
       "      <td>...</td>\n",
       "      <td>...</td>\n",
       "      <td>...</td>\n",
       "      <td>...</td>\n",
       "    </tr>\n",
       "    <tr>\n",
       "      <th>244</th>\n",
       "      <td>Western Sahara</td>\n",
       "      <td>EH</td>\n",
       "      <td>ESH</td>\n",
       "      <td>732</td>\n",
       "    </tr>\n",
       "    <tr>\n",
       "      <th>245</th>\n",
       "      <td>Yemen</td>\n",
       "      <td>YE</td>\n",
       "      <td>YEM</td>\n",
       "      <td>887</td>\n",
       "    </tr>\n",
       "    <tr>\n",
       "      <th>246</th>\n",
       "      <td>Zambia</td>\n",
       "      <td>ZM</td>\n",
       "      <td>ZMB</td>\n",
       "      <td>894</td>\n",
       "    </tr>\n",
       "    <tr>\n",
       "      <th>247</th>\n",
       "      <td>Zimbabwe</td>\n",
       "      <td>ZW</td>\n",
       "      <td>ZWE</td>\n",
       "      <td>716</td>\n",
       "    </tr>\n",
       "    <tr>\n",
       "      <th>248</th>\n",
       "      <td>Åland Islands</td>\n",
       "      <td>AX</td>\n",
       "      <td>ALA</td>\n",
       "      <td>248</td>\n",
       "    </tr>\n",
       "  </tbody>\n",
       "</table>\n",
       "<p>249 rows × 4 columns</p>\n",
       "</div>"
      ],
      "text/plain": [
       "            Country Alpha-2 code Alpha-3 code  Numeric\n",
       "0       Afghanistan           AF          AFG        4\n",
       "1           Albania           AL          ALB        8\n",
       "2           Algeria           DZ          DZA       12\n",
       "3    American Samoa           AS          ASM       16\n",
       "4           Andorra           AD          AND       20\n",
       "..              ...          ...          ...      ...\n",
       "244  Western Sahara           EH          ESH      732\n",
       "245           Yemen           YE          YEM      887\n",
       "246          Zambia           ZM          ZMB      894\n",
       "247        Zimbabwe           ZW          ZWE      716\n",
       "248   Åland Islands           AX          ALA      248\n",
       "\n",
       "[249 rows x 4 columns]"
      ]
     },
     "metadata": {},
     "output_type": "display_data"
    }
   ],
   "source": [
    "# Read data from each tab in the tab_indxs list and put the results in a\n",
    "#  list of dataframes, dfs\n",
    "tab_idxs=[1,2]\n",
    "dfs=[]\n",
    "\n",
    "for tab_idx in tab_idxs:\n",
    "    # Create a worksheet object using the current index\n",
    "    wks=sh.worksheets()[tab_idx]\n",
    "    print('Reading data from {}'.format(wks.title))\n",
    "    # Read data from this tab into a dataframe using the wks.get_as_df method\n",
    "    df=wks.get_as_df(has_header=True, index_colum=None, start=None, \n",
    "                             end=None, numerize=True, empty_value='', \n",
    "                             value_render='FORMATTED_VALUE')\n",
    "    \n",
    "    # Append this dataframe to the list of dataframes\n",
    "    dfs.append(df)\n",
    "\n",
    "    # Display this dataframe\n",
    "    display(df)\n"
   ]
  },
  {
   "cell_type": "markdown",
   "metadata": {},
   "source": [
    "## Do some work"
   ]
  },
  {
   "cell_type": "code",
   "execution_count": 8,
   "metadata": {
    "ExecuteTime": {
     "end_time": "2020-06-12T18:52:50.666241Z",
     "start_time": "2020-06-12T18:52:50.630150Z"
    }
   },
   "outputs": [
    {
     "data": {
      "text/html": [
       "<div>\n",
       "<style scoped>\n",
       "    .dataframe tbody tr th:only-of-type {\n",
       "        vertical-align: middle;\n",
       "    }\n",
       "\n",
       "    .dataframe tbody tr th {\n",
       "        vertical-align: top;\n",
       "    }\n",
       "\n",
       "    .dataframe thead th {\n",
       "        text-align: right;\n",
       "    }\n",
       "</style>\n",
       "<table border=\"1\" class=\"dataframe\">\n",
       "  <thead>\n",
       "    <tr style=\"text-align: right;\">\n",
       "      <th></th>\n",
       "      <th>Country_x</th>\n",
       "      <th>Currency</th>\n",
       "      <th>Code</th>\n",
       "      <th>Number</th>\n",
       "      <th>ctry_key</th>\n",
       "      <th>Country_y</th>\n",
       "      <th>Alpha-2 code</th>\n",
       "      <th>Alpha-3 code</th>\n",
       "      <th>Numeric</th>\n",
       "    </tr>\n",
       "  </thead>\n",
       "  <tbody>\n",
       "    <tr>\n",
       "      <th>0</th>\n",
       "      <td>AFGHANISTAN</td>\n",
       "      <td>Afghani</td>\n",
       "      <td>AFN</td>\n",
       "      <td>971.0</td>\n",
       "      <td>AFGHANISTAN</td>\n",
       "      <td>Afghanistan</td>\n",
       "      <td>AF</td>\n",
       "      <td>AFG</td>\n",
       "      <td>4.0</td>\n",
       "    </tr>\n",
       "    <tr>\n",
       "      <th>1</th>\n",
       "      <td>ALBANIA</td>\n",
       "      <td>Lek</td>\n",
       "      <td>ALL</td>\n",
       "      <td>8.0</td>\n",
       "      <td>ALBANIA</td>\n",
       "      <td>Albania</td>\n",
       "      <td>AL</td>\n",
       "      <td>ALB</td>\n",
       "      <td>8.0</td>\n",
       "    </tr>\n",
       "    <tr>\n",
       "      <th>2</th>\n",
       "      <td>ALGERIA</td>\n",
       "      <td>Algerian Dinar</td>\n",
       "      <td>DZD</td>\n",
       "      <td>12.0</td>\n",
       "      <td>ALGERIA</td>\n",
       "      <td>Algeria</td>\n",
       "      <td>DZ</td>\n",
       "      <td>DZA</td>\n",
       "      <td>12.0</td>\n",
       "    </tr>\n",
       "    <tr>\n",
       "      <th>3</th>\n",
       "      <td>AMERICAN SAMOA</td>\n",
       "      <td>US Dollar</td>\n",
       "      <td>USD</td>\n",
       "      <td>840.0</td>\n",
       "      <td>AMERICAN SAMOA</td>\n",
       "      <td>American Samoa</td>\n",
       "      <td>AS</td>\n",
       "      <td>ASM</td>\n",
       "      <td>16.0</td>\n",
       "    </tr>\n",
       "    <tr>\n",
       "      <th>4</th>\n",
       "      <td>ANDORRA</td>\n",
       "      <td>Euro</td>\n",
       "      <td>EUR</td>\n",
       "      <td>978.0</td>\n",
       "      <td>ANDORRA</td>\n",
       "      <td>Andorra</td>\n",
       "      <td>AD</td>\n",
       "      <td>AND</td>\n",
       "      <td>20.0</td>\n",
       "    </tr>\n",
       "    <tr>\n",
       "      <th>...</th>\n",
       "      <td>...</td>\n",
       "      <td>...</td>\n",
       "      <td>...</td>\n",
       "      <td>...</td>\n",
       "      <td>...</td>\n",
       "      <td>...</td>\n",
       "      <td>...</td>\n",
       "      <td>...</td>\n",
       "      <td>...</td>\n",
       "    </tr>\n",
       "    <tr>\n",
       "      <th>267</th>\n",
       "      <td>ÅLAND ISLANDS</td>\n",
       "      <td>Euro</td>\n",
       "      <td>EUR</td>\n",
       "      <td>978.0</td>\n",
       "      <td>ÅLAND ISLANDS</td>\n",
       "      <td>Åland Islands</td>\n",
       "      <td>AX</td>\n",
       "      <td>ALA</td>\n",
       "      <td>248.0</td>\n",
       "    </tr>\n",
       "    <tr>\n",
       "      <th>268</th>\n",
       "      <td>NaN</td>\n",
       "      <td>NaN</td>\n",
       "      <td>NaN</td>\n",
       "      <td>NaN</td>\n",
       "      <td>CZECHIA</td>\n",
       "      <td>Czechia</td>\n",
       "      <td>CZ</td>\n",
       "      <td>CZE</td>\n",
       "      <td>203.0</td>\n",
       "    </tr>\n",
       "    <tr>\n",
       "      <th>269</th>\n",
       "      <td>NaN</td>\n",
       "      <td>NaN</td>\n",
       "      <td>NaN</td>\n",
       "      <td>NaN</td>\n",
       "      <td>ESWATINI</td>\n",
       "      <td>Eswatini</td>\n",
       "      <td>SZ</td>\n",
       "      <td>SWZ</td>\n",
       "      <td>748.0</td>\n",
       "    </tr>\n",
       "    <tr>\n",
       "      <th>270</th>\n",
       "      <td>NaN</td>\n",
       "      <td>NaN</td>\n",
       "      <td>NaN</td>\n",
       "      <td>NaN</td>\n",
       "      <td>KOREA (THE DEMOCRATIC PEOPLE'S REPUBLIC OF)</td>\n",
       "      <td>Korea (the Democratic People's Republic of)</td>\n",
       "      <td>KP</td>\n",
       "      <td>PRK</td>\n",
       "      <td>408.0</td>\n",
       "    </tr>\n",
       "    <tr>\n",
       "      <th>271</th>\n",
       "      <td>NaN</td>\n",
       "      <td>NaN</td>\n",
       "      <td>NaN</td>\n",
       "      <td>NaN</td>\n",
       "      <td>LAO PEOPLE'S DEMOCRATIC REPUBLIC (THE)</td>\n",
       "      <td>Lao People's Democratic Republic (the)</td>\n",
       "      <td>LA</td>\n",
       "      <td>LAO</td>\n",
       "      <td>418.0</td>\n",
       "    </tr>\n",
       "  </tbody>\n",
       "</table>\n",
       "<p>272 rows × 9 columns</p>\n",
       "</div>"
      ],
      "text/plain": [
       "          Country_x        Currency Code  Number  \\\n",
       "0       AFGHANISTAN         Afghani  AFN   971.0   \n",
       "1           ALBANIA             Lek  ALL     8.0   \n",
       "2           ALGERIA  Algerian Dinar  DZD    12.0   \n",
       "3    AMERICAN SAMOA       US Dollar  USD   840.0   \n",
       "4           ANDORRA            Euro  EUR   978.0   \n",
       "..              ...             ...  ...     ...   \n",
       "267   ÅLAND ISLANDS            Euro  EUR   978.0   \n",
       "268             NaN             NaN  NaN     NaN   \n",
       "269             NaN             NaN  NaN     NaN   \n",
       "270             NaN             NaN  NaN     NaN   \n",
       "271             NaN             NaN  NaN     NaN   \n",
       "\n",
       "                                        ctry_key  \\\n",
       "0                                    AFGHANISTAN   \n",
       "1                                        ALBANIA   \n",
       "2                                        ALGERIA   \n",
       "3                                 AMERICAN SAMOA   \n",
       "4                                        ANDORRA   \n",
       "..                                           ...   \n",
       "267                                ÅLAND ISLANDS   \n",
       "268                                      CZECHIA   \n",
       "269                                     ESWATINI   \n",
       "270  KOREA (THE DEMOCRATIC PEOPLE'S REPUBLIC OF)   \n",
       "271       LAO PEOPLE'S DEMOCRATIC REPUBLIC (THE)   \n",
       "\n",
       "                                       Country_y Alpha-2 code Alpha-3 code  \\\n",
       "0                                    Afghanistan           AF          AFG   \n",
       "1                                        Albania           AL          ALB   \n",
       "2                                        Algeria           DZ          DZA   \n",
       "3                                 American Samoa           AS          ASM   \n",
       "4                                        Andorra           AD          AND   \n",
       "..                                           ...          ...          ...   \n",
       "267                                Åland Islands           AX          ALA   \n",
       "268                                      Czechia           CZ          CZE   \n",
       "269                                     Eswatini           SZ          SWZ   \n",
       "270  Korea (the Democratic People's Republic of)           KP          PRK   \n",
       "271       Lao People's Democratic Republic (the)           LA          LAO   \n",
       "\n",
       "     Numeric  \n",
       "0        4.0  \n",
       "1        8.0  \n",
       "2       12.0  \n",
       "3       16.0  \n",
       "4       20.0  \n",
       "..       ...  \n",
       "267    248.0  \n",
       "268    203.0  \n",
       "269    748.0  \n",
       "270    408.0  \n",
       "271    418.0  \n",
       "\n",
       "[272 rows x 9 columns]"
      ]
     },
     "metadata": {},
     "output_type": "display_data"
    }
   ],
   "source": [
    "# In this case, we are going to merge the two dataframes using the pandas merge method \n",
    "\n",
    "# First we need to create a common key, in this case the upper case country name,\n",
    "#  then we create an output dataframe using the first dataframe in the list\n",
    "dfs[0]['ctry_key']=dfs[0]['Country'].str.upper()\n",
    "out_df=dfs[0].copy(deep=True)\n",
    "\n",
    "# Now create a common key for each additional dataframe in the list, and \n",
    "#  merge it with the out_df\n",
    "for df in dfs[1:]:\n",
    "    df['ctry_key']=df['Country'].str.upper()\n",
    "    out_df=pd.merge(left=out_df, right=df, on=['ctry_key'], how='outer')\n",
    "\n",
    "# Display the new output dataframe\n",
    "display(out_df)"
   ]
  },
  {
   "cell_type": "code",
   "execution_count": 9,
   "metadata": {
    "ExecuteTime": {
     "end_time": "2020-06-12T18:52:52.502497Z",
     "start_time": "2020-06-12T18:52:50.668426Z"
    }
   },
   "outputs": [],
   "source": [
    "# In this case we're going to write to the test_output sheet\n",
    "output_tab_name='test_output'\n",
    "for tab_idx,tab_name in enumerate(wks_names):\n",
    "    if tab_name==output_tab_name:\n",
    "        wks=sh.worksheets()[tab_idx]\n",
    "\n",
    "# Clear all existing values and formats\n",
    "wks.clear(fields=\"*\")       \n",
    "        \n",
    "# Update the sheet with data from this new dataframe\n",
    "# The upper left corner to start writing the range\n",
    "ul_crnr=(1,1)\n",
    "\n",
    "# Write the values of the combined dataframe\n",
    "wks.set_dataframe(df=out_df, start=ul_crnr, copy_index=False) "
   ]
  }
 ],
 "metadata": {
  "kernelspec": {
   "display_name": "base",
   "language": "python",
   "name": "base"
  },
  "language_info": {
   "codemirror_mode": {
    "name": "ipython",
    "version": 3
   },
   "file_extension": ".py",
   "mimetype": "text/x-python",
   "name": "python",
   "nbconvert_exporter": "python",
   "pygments_lexer": "ipython3",
   "version": "3.6.10"
  },
  "toc": {
   "base_numbering": 1,
   "nav_menu": {},
   "number_sections": true,
   "sideBar": true,
   "skip_h1_title": false,
   "title_cell": "Table of Contents",
   "title_sidebar": "Contents",
   "toc_cell": true,
   "toc_position": {},
   "toc_section_display": true,
   "toc_window_display": true
  }
 },
 "nbformat": 4,
 "nbformat_minor": 4
}
